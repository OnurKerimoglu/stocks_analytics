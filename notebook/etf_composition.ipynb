{
 "cells": [
  {
   "cell_type": "code",
   "execution_count": null,
   "metadata": {},
   "outputs": [],
   "source": [
    "# packages\n",
    "from datetime import datetime\n",
    "from etf_scraper import ETFScraper\n",
    "import matplotlib.pyplot as plt\n",
    "\n",
    "etf_scraper = ETFScraper()\n",
    "# helper functino to create a pie chart based on the sector weights\n",
    "def plot_sector_composition(df, ticker_name, holdings_date, factor='weight'):\n",
    "    if not holdings_date:\n",
    "        holdings_date = datetime.now().date().strftime('%Y-%m-%d')\n",
    "    sector_grouped = df.groupby('sector')[factor].sum().sort_values(ascending=False)\n",
    "\n",
    "    plt.pie(sector_grouped, labels=sector_grouped.index, autopct='%1.1f%%')\n",
    "    factor_pretty = factor.replace('_',' ').title()\n",
    "    plt.title(f\"{ticker_name} Sectoral {factor_pretty} Composition (standing: {holdings_date})\")\n",
    "    plt.show()"
   ]
  },
  {
   "cell_type": "code",
   "execution_count": null,
   "metadata": {},
   "outputs": [],
   "source": [
    "etfs_df = etf_scraper.listings_df\n",
    "etfs_df.head()\n"
   ]
  },
  {
   "cell_type": "code",
   "execution_count": null,
   "metadata": {},
   "outputs": [],
   "source": [
    "fund_ticker = \"IVV\" # IShares Core S&P 500 ETF\n",
    "ticker_name = etfs_df.fund_name.loc[etfs_df.ticker == fund_ticker].values[0]\n",
    "holdings_date = None # \"2022-12-30\"\n",
    "holdings_df = etf_scraper.query_holdings(\n",
    "    fund_ticker,\n",
    "    holdings_date=holdings_date\n",
    "    ) \n",
    "plot_sector_composition(holdings_df, ticker_name, holdings_date, factor='weight')\n",
    "# plot_sector_composition(holdings_df, ticker_name, holdings_date, factor='market_value')\n",
    "holdings_df.sort_values(['weight', 'market_value'], ascending=False).head()"
   ]
  },
  {
   "cell_type": "code",
   "execution_count": null,
   "metadata": {},
   "outputs": [],
   "source": [
    "fund_ticker = \"QTOP\"\n",
    "ticker_name = etfs_df.fund_name.loc[etfs_df.ticker == fund_ticker].values[0]\n",
    "holdings_date = None # \"2022-12-30\"\n",
    "holdings_df = etf_scraper.query_holdings(\n",
    "    fund_ticker,\n",
    "    holdings_date=holdings_date\n",
    "    ) \n",
    "plot_sector_composition(holdings_df, ticker_name, holdings_date, factor='weight')\n",
    "# plot_sector_composition(holdings_df, ticker_name, holdings_date, factor='market_value')\n",
    "holdings_df.sort_values(['weight', 'market_value'], ascending=False).head()"
   ]
  },
  {
   "cell_type": "code",
   "execution_count": null,
   "metadata": {},
   "outputs": [],
   "source": [
    "fund_ticker = \"OEF\"\n",
    "ticker_name = etfs_df.fund_name.loc[etfs_df.ticker == fund_ticker].values[0]\n",
    "holdings_date = None # \"2022-12-30\"\n",
    "holdings_df = etf_scraper.query_holdings(\n",
    "    fund_ticker,\n",
    "    holdings_date=holdings_date\n",
    "    ) \n",
    "plot_sector_composition(holdings_df, ticker_name, holdings_date, factor='weight')\n",
    "# plot_sector_composition(holdings_df, ticker_name, holdings_date, factor='market_value')\n",
    "holdings_df.sort_values(['weight', 'market_value'], ascending=False).head()"
   ]
  },
  {
   "cell_type": "code",
   "execution_count": null,
   "metadata": {},
   "outputs": [],
   "source": [
    "holdings_df.columns"
   ]
  },
  {
   "cell_type": "code",
   "execution_count": null,
   "metadata": {},
   "outputs": [],
   "source": [
    "etfs_df_filtered = etfs_df.loc[(etfs_df.provider =='IShares') & (etfs_df.country == 'United States') & (etfs_df.asset_class == 'Equity'),:]"
   ]
  },
  {
   "cell_type": "code",
   "execution_count": null,
   "metadata": {},
   "outputs": [],
   "source": [
    "holdings_IVV= etf_scraper.query_holdings('IVV', holdings_date)\n",
    "holdings_IVV.shape"
   ]
  },
  {
   "cell_type": "code",
   "execution_count": null,
   "metadata": {},
   "outputs": [],
   "source": [
    "holdings_QTOP= etf_scraper.query_holdings('QTOP', holdings_date)\n",
    "holdings_QTOP.shape"
   ]
  },
  {
   "cell_type": "code",
   "execution_count": null,
   "metadata": {},
   "outputs": [],
   "source": [
    "holdings_OEF= etf_scraper.query_holdings('OEF', holdings_date)\n",
    "holdings_OEF.shape"
   ]
  },
  {
   "cell_type": "code",
   "execution_count": null,
   "metadata": {},
   "outputs": [],
   "source": [
    "holdings_IYY= etf_scraper.query_holdings('IYY', holdings_date)\n",
    "holdings_OEF.shape"
   ]
  },
  {
   "cell_type": "code",
   "execution_count": null,
   "metadata": {},
   "outputs": [],
   "source": [
    "dif_QTOP_OEF = set(holdings_QTOP.ticker.unique()) - set(holdings_OEF.ticker.unique())\n",
    "dif_OEF_QTOP = set(holdings_OEF.ticker.unique()) - set(holdings_QTOP.ticker.unique())\n",
    "list(dif_OEF_QTOP)"
   ]
  }
 ],
 "metadata": {
  "kernelspec": {
   "display_name": ".venv",
   "language": "python",
   "name": "python3"
  },
  "language_info": {
   "codemirror_mode": {
    "name": "ipython",
    "version": 3
   },
   "file_extension": ".py",
   "mimetype": "text/x-python",
   "name": "python",
   "nbconvert_exporter": "python",
   "pygments_lexer": "ipython3",
   "version": "3.11.1"
  }
 },
 "nbformat": 4,
 "nbformat_minor": 2
}
