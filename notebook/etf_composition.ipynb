{
 "cells": [
  {
   "cell_type": "code",
   "execution_count": null,
   "metadata": {},
   "outputs": [],
   "source": [
    "# packages\n",
    "from datetime import datetime\n",
    "from etf_scraper import ETFScraper\n",
    "import matplotlib.pyplot as plt\n",
    "\n",
    "# helper functino to create a pie chart based on the sector weights\n",
    "def plot_sector_composition(df, ticker_name, holdings_date, factor='weight'):\n",
    "    if not holdings_date:\n",
    "        holdings_date = datetime.now().date().strftime('%Y-%m-%d')\n",
    "    sector_grouped = df.groupby('sector')[factor].sum().sort_values(ascending=False)\n",
    "\n",
    "    plt.pie(sector_grouped, labels=sector_grouped.index, autopct='%1.1f%%')\n",
    "    factor_pretty = factor.replace('_',' ').title()\n",
    "    plt.title(f\"{ticker_name} Sectoral {factor_pretty} Composition (standing: {holdings_date})\")\n",
    "    plt.show()"
   ]
  },
  {
   "cell_type": "code",
   "execution_count": null,
   "metadata": {},
   "outputs": [],
   "source": [
    "etfs_df = etf_scraper.listings_df\n",
    "etfs_df.head()\n"
   ]
  },
  {
   "cell_type": "code",
   "execution_count": null,
   "metadata": {},
   "outputs": [],
   "source": [
    "fund_ticker = \"IVV\" # IShares Core S&P 500 ETF\n",
    "ticker_name = etfs_df.fund_name.loc[etfs_df.ticker == fund_ticker].values[0]\n",
    "\n",
    "# holdings_date =  \"2022-12-30\" # or None to query the latest holdings\n",
    "holdings_date = None\n",
    "\n",
    "etf_scraper = ETFScraper()\n",
    "\n",
    "holdings_df = etf_scraper.query_holdings(fund_ticker, holdings_date)\n",
    "holdings_df.head()"
   ]
  },
  {
   "cell_type": "code",
   "execution_count": null,
   "metadata": {},
   "outputs": [],
   "source": [
    "plot_sector_composition(holdings_df, ticker_name, holdings_date, factor='weight')"
   ]
  },
  {
   "cell_type": "code",
   "execution_count": null,
   "metadata": {},
   "outputs": [],
   "source": [
    "plot_sector_composition(holdings_df, ticker_name, holdings_date, factor='market_value')"
   ]
  },
  {
   "cell_type": "code",
   "execution_count": null,
   "metadata": {},
   "outputs": [],
   "source": [
    "holdings_df.columns"
   ]
  },
  {
   "cell_type": "code",
   "execution_count": null,
   "metadata": {},
   "outputs": [],
   "source": [
    "holdings_date =  \"2023-12-30\" \n",
    "holdings_date = None\n",
    "\n",
    "etf_scraper = ETFScraper()\n",
    "\n",
    "holdings_df = etf_scraper.query_holdings(fund_ticker, holdings_date)\n",
    "plot_sector_composition(holdings_df, ticker_name, holdings_date, factor='market_value')"
   ]
  }
 ],
 "metadata": {
  "kernelspec": {
   "display_name": ".venv",
   "language": "python",
   "name": "python3"
  },
  "language_info": {
   "codemirror_mode": {
    "name": "ipython",
    "version": 3
   },
   "file_extension": ".py",
   "mimetype": "text/x-python",
   "name": "python",
   "nbconvert_exporter": "python",
   "pygments_lexer": "ipython3",
   "version": "3.11.1"
  }
 },
 "nbformat": 4,
 "nbformat_minor": 2
}
